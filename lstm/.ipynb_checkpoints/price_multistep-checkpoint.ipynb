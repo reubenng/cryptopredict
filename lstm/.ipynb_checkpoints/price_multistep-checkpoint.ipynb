{
 "cells": [
  {
   "cell_type": "code",
   "execution_count": 24,
   "metadata": {},
   "outputs": [],
   "source": [
    "#LSTM one-step price as input\n",
    "import numpy as np\n",
    "import pandas as pd\n",
    "from pandas import DataFrame\n",
    "from pandas import concat\n",
    "from sklearn.preprocessing import MinMaxScaler\n",
    "from keras.models import Sequential\n",
    "from keras.layers import Dense\n",
    "from keras.layers import LSTM\n",
    "from matplotlib import pyplot\n",
    "%matplotlib inline"
   ]
  },
  {
   "cell_type": "code",
   "execution_count": 3,
   "metadata": {},
   "outputs": [
    {
     "data": {
      "text/html": [
       "<div>\n",
       "<style scoped>\n",
       "    .dataframe tbody tr th:only-of-type {\n",
       "        vertical-align: middle;\n",
       "    }\n",
       "\n",
       "    .dataframe tbody tr th {\n",
       "        vertical-align: top;\n",
       "    }\n",
       "\n",
       "    .dataframe thead th {\n",
       "        text-align: right;\n",
       "    }\n",
       "</style>\n",
       "<table border=\"1\" class=\"dataframe\">\n",
       "  <thead>\n",
       "    <tr style=\"text-align: right;\">\n",
       "      <th></th>\n",
       "      <th>price</th>\n",
       "      <th>sentiment</th>\n",
       "    </tr>\n",
       "  </thead>\n",
       "  <tbody>\n",
       "    <tr>\n",
       "      <th>0</th>\n",
       "      <td>41.702200</td>\n",
       "      <td>0.720324</td>\n",
       "    </tr>\n",
       "    <tr>\n",
       "      <th>1</th>\n",
       "      <td>0.011437</td>\n",
       "      <td>0.302333</td>\n",
       "    </tr>\n",
       "    <tr>\n",
       "      <th>2</th>\n",
       "      <td>14.675589</td>\n",
       "      <td>0.092339</td>\n",
       "    </tr>\n",
       "    <tr>\n",
       "      <th>3</th>\n",
       "      <td>18.626021</td>\n",
       "      <td>0.345561</td>\n",
       "    </tr>\n",
       "    <tr>\n",
       "      <th>4</th>\n",
       "      <td>39.676747</td>\n",
       "      <td>0.538817</td>\n",
       "    </tr>\n",
       "  </tbody>\n",
       "</table>\n",
       "</div>"
      ],
      "text/plain": [
       "       price  sentiment\n",
       "0  41.702200   0.720324\n",
       "1   0.011437   0.302333\n",
       "2  14.675589   0.092339\n",
       "3  18.626021   0.345561\n",
       "4  39.676747   0.538817"
      ]
     },
     "execution_count": 3,
     "metadata": {},
     "output_type": "execute_result"
    }
   ],
   "source": [
    "# dummy data\n",
    "np.random.seed(1)\n",
    "df = pd.DataFrame(np.random.rand(100, 2), columns=['price', 'sentiment'])\n",
    "df['price'] = df['price']*100\n",
    "df.head()"
   ]
  },
  {
   "cell_type": "code",
   "execution_count": 4,
   "metadata": {},
   "outputs": [],
   "source": [
    "def series_to_supervised(data, n_in=1, n_out=1, dropnan=True):\n",
    "\t\"\"\"\n",
    "\tFrame a time series as a supervised learning dataset.\n",
    "\tArguments:\n",
    "\t\tdata: Sequence of observations as a list or NumPy array.\n",
    "\t\tn_in: Number of lag observations as input (X).\n",
    "\t\tn_out: Number of observations as output (y).\n",
    "\t\tdropnan: Boolean whether or not to drop rows with NaN values.\n",
    "\tReturns:\n",
    "\t\tPandas DataFrame of series framed for supervised learning.\n",
    "\t\"\"\"\n",
    "\tn_vars = 1 if type(data) is list else data.shape[1]\n",
    "\tdf = DataFrame(data)\n",
    "\tcols, names = list(), list()\n",
    "\t# input sequence (t-n, ... t-1)\n",
    "\tfor i in range(n_in, 0, -1):\n",
    "\t\tcols.append(df.shift(i))\n",
    "\t\tnames += [('var%d(t-%d)' % (j+1, i)) for j in range(n_vars)]\n",
    "\t# forecast sequence (t, t+1, ... t+n)\n",
    "\tfor i in range(0, n_out):\n",
    "\t\tcols.append(df.shift(-i))\n",
    "\t\tif i == 0:\n",
    "\t\t\tnames += [('var%d(t)' % (j+1)) for j in range(n_vars)]\n",
    "\t\telse:\n",
    "\t\t\tnames += [('var%d(t+%d)' % (j+1, i)) for j in range(n_vars)]\n",
    "\t# put it all together\n",
    "\tagg = concat(cols, axis=1)\n",
    "\tagg.columns = names\n",
    "\t# drop rows with NaN values\n",
    "\tif dropnan:\n",
    "\t\tagg.dropna(inplace=True)\n",
    "\treturn agg"
   ]
  },
  {
   "cell_type": "code",
   "execution_count": 11,
   "metadata": {},
   "outputs": [
    {
     "data": {
      "text/html": [
       "<div>\n",
       "<style scoped>\n",
       "    .dataframe tbody tr th:only-of-type {\n",
       "        vertical-align: middle;\n",
       "    }\n",
       "\n",
       "    .dataframe tbody tr th {\n",
       "        vertical-align: top;\n",
       "    }\n",
       "\n",
       "    .dataframe thead th {\n",
       "        text-align: right;\n",
       "    }\n",
       "</style>\n",
       "<table border=\"1\" class=\"dataframe\">\n",
       "  <thead>\n",
       "    <tr style=\"text-align: right;\">\n",
       "      <th></th>\n",
       "      <th>var1(t-1)</th>\n",
       "      <th>var1(t)</th>\n",
       "    </tr>\n",
       "  </thead>\n",
       "  <tbody>\n",
       "    <tr>\n",
       "      <th>1</th>\n",
       "      <td>0.421653</td>\n",
       "      <td>0.000000</td>\n",
       "    </tr>\n",
       "    <tr>\n",
       "      <th>2</th>\n",
       "      <td>0.000000</td>\n",
       "      <td>0.148310</td>\n",
       "    </tr>\n",
       "    <tr>\n",
       "      <th>3</th>\n",
       "      <td>0.148310</td>\n",
       "      <td>0.188264</td>\n",
       "    </tr>\n",
       "    <tr>\n",
       "      <th>4</th>\n",
       "      <td>0.188264</td>\n",
       "      <td>0.401168</td>\n",
       "    </tr>\n",
       "    <tr>\n",
       "      <th>5</th>\n",
       "      <td>0.401168</td>\n",
       "      <td>0.423850</td>\n",
       "    </tr>\n",
       "  </tbody>\n",
       "</table>\n",
       "</div>"
      ],
      "text/plain": [
       "   var1(t-1)   var1(t)\n",
       "1   0.421653  0.000000\n",
       "2   0.000000  0.148310\n",
       "3   0.148310  0.188264\n",
       "4   0.188264  0.401168\n",
       "5   0.401168  0.423850"
      ]
     },
     "execution_count": 11,
     "metadata": {},
     "output_type": "execute_result"
    }
   ],
   "source": [
    "values = df.values\n",
    "values = values.astype('float32') # convert to float\n",
    "scaler = MinMaxScaler(feature_range=(0, 1))\n",
    "scaled = scaler.fit_transform(values) # normalised\n",
    "reframed = series_to_supervised(scaled, 1, 1)\n",
    "reframed.drop(reframed.columns[[3]], axis=1, inplace=True) # drop sentiment columns\n",
    "reframed.drop(reframed.columns[[1]], axis=1, inplace=True) # drop sentiment columns\n",
    "reframed.head()"
   ]
  },
  {
   "cell_type": "code",
   "execution_count": 12,
   "metadata": {},
   "outputs": [
    {
     "data": {
      "text/plain": [
       "(10, 2)"
      ]
     },
     "execution_count": 12,
     "metadata": {},
     "output_type": "execute_result"
    }
   ],
   "source": [
    "# train and test set\n",
    "split = 0.9\n",
    "values = reframed.values\n",
    "train = values[:int(len(values)*split), :]\n",
    "test = values[int(len(values)*split):, :]\n",
    "test.shape"
   ]
  },
  {
   "cell_type": "code",
   "execution_count": 13,
   "metadata": {},
   "outputs": [],
   "source": [
    "# split into input output\n",
    "trainX, trainY = train[:, :-1], train[:, -1]\n",
    "testX, testY = test[:, :-1], test[:, -1]\n",
    "trainX = trainX.reshape(trainX.shape[0], 1, trainX.shape[1])\n",
    "testX = testX.reshape(testX.shape[0], 1, testX.shape[1])"
   ]
  },
  {
   "cell_type": "code",
   "execution_count": 14,
   "metadata": {},
   "outputs": [
    {
     "data": {
      "text/plain": [
       "(89, 1, 1)"
      ]
     },
     "execution_count": 14,
     "metadata": {},
     "output_type": "execute_result"
    }
   ],
   "source": [
    "trainX.shape"
   ]
  },
  {
   "cell_type": "code",
   "execution_count": 17,
   "metadata": {},
   "outputs": [],
   "source": [
    "# LSTM\n",
    "model = Sequential()\n",
    "model.add(LSTM(100, input_shape=(trainX.shape[1], trainX.shape[2]))) # LSTM layer, 100 units\n",
    "model.add(Dense(1)) # fully connected layer\n",
    "model.compile(loss='mae', optimizer='adam') # configure training process, mean absolute error"
   ]
  },
  {
   "cell_type": "code",
   "execution_count": 18,
   "metadata": {
    "scrolled": true
   },
   "outputs": [
    {
     "name": "stdout",
     "output_type": "stream",
     "text": [
      "Train on 89 samples, validate on 10 samples\n",
      "Epoch 1/50\n",
      " - 2s - loss: 0.4036 - val_loss: 0.4127\n",
      "Epoch 2/50\n",
      " - 0s - loss: 0.3463 - val_loss: 0.3389\n",
      "Epoch 3/50\n",
      " - 0s - loss: 0.3150 - val_loss: 0.3157\n",
      "Epoch 4/50\n",
      " - 0s - loss: 0.3062 - val_loss: 0.3081\n",
      "Epoch 5/50\n",
      " - 0s - loss: 0.3023 - val_loss: 0.3016\n",
      "Epoch 6/50\n",
      " - 0s - loss: 0.2983 - val_loss: 0.2950\n",
      "Epoch 7/50\n",
      " - 0s - loss: 0.2941 - val_loss: 0.2879\n",
      "Epoch 8/50\n",
      " - 0s - loss: 0.2919 - val_loss: 0.2828\n",
      "Epoch 9/50\n",
      " - 0s - loss: 0.2915 - val_loss: 0.2796\n",
      "Epoch 10/50\n",
      " - 0s - loss: 0.2912 - val_loss: 0.2775\n",
      "Epoch 11/50\n",
      " - 0s - loss: 0.2910 - val_loss: 0.2766\n",
      "Epoch 12/50\n",
      " - 0s - loss: 0.2906 - val_loss: 0.2754\n",
      "Epoch 13/50\n",
      " - 0s - loss: 0.2901 - val_loss: 0.2738\n",
      "Epoch 14/50\n",
      " - 0s - loss: 0.2897 - val_loss: 0.2721\n",
      "Epoch 15/50\n",
      " - 0s - loss: 0.2892 - val_loss: 0.2705\n",
      "Epoch 16/50\n",
      " - 0s - loss: 0.2890 - val_loss: 0.2696\n",
      "Epoch 17/50\n",
      " - 0s - loss: 0.2885 - val_loss: 0.2682\n",
      "Epoch 18/50\n",
      " - 0s - loss: 0.2880 - val_loss: 0.2665\n",
      "Epoch 19/50\n",
      " - 0s - loss: 0.2880 - val_loss: 0.2659\n",
      "Epoch 20/50\n",
      " - 0s - loss: 0.2877 - val_loss: 0.2655\n",
      "Epoch 21/50\n",
      " - 0s - loss: 0.2873 - val_loss: 0.2651\n",
      "Epoch 22/50\n",
      " - 0s - loss: 0.2866 - val_loss: 0.2635\n",
      "Epoch 23/50\n",
      " - 0s - loss: 0.2865 - val_loss: 0.2629\n",
      "Epoch 24/50\n",
      " - 0s - loss: 0.2862 - val_loss: 0.2624\n",
      "Epoch 25/50\n",
      " - 0s - loss: 0.2855 - val_loss: 0.2610\n",
      "Epoch 26/50\n",
      " - 0s - loss: 0.2852 - val_loss: 0.2594\n",
      "Epoch 27/50\n",
      " - 0s - loss: 0.2853 - val_loss: 0.2580\n",
      "Epoch 28/50\n",
      " - 0s - loss: 0.2850 - val_loss: 0.2564\n",
      "Epoch 29/50\n",
      " - 0s - loss: 0.2848 - val_loss: 0.2554\n",
      "Epoch 30/50\n",
      " - 0s - loss: 0.2846 - val_loss: 0.2541\n",
      "Epoch 31/50\n",
      " - 0s - loss: 0.2842 - val_loss: 0.2525\n",
      "Epoch 32/50\n",
      " - 0s - loss: 0.2840 - val_loss: 0.2508\n",
      "Epoch 33/50\n",
      " - 0s - loss: 0.2838 - val_loss: 0.2497\n",
      "Epoch 34/50\n",
      " - 0s - loss: 0.2837 - val_loss: 0.2484\n",
      "Epoch 35/50\n",
      " - 0s - loss: 0.2832 - val_loss: 0.2466\n",
      "Epoch 36/50\n",
      " - 0s - loss: 0.2830 - val_loss: 0.2448\n",
      "Epoch 37/50\n",
      " - 0s - loss: 0.2830 - val_loss: 0.2447\n",
      "Epoch 38/50\n",
      " - 0s - loss: 0.2824 - val_loss: 0.2427\n",
      "Epoch 39/50\n",
      " - 0s - loss: 0.2827 - val_loss: 0.2426\n",
      "Epoch 40/50\n",
      " - 0s - loss: 0.2821 - val_loss: 0.2414\n",
      "Epoch 41/50\n",
      " - 0s - loss: 0.2820 - val_loss: 0.2407\n",
      "Epoch 42/50\n",
      " - 0s - loss: 0.2820 - val_loss: 0.2403\n",
      "Epoch 43/50\n",
      " - 0s - loss: 0.2817 - val_loss: 0.2391\n",
      "Epoch 44/50\n",
      " - 0s - loss: 0.2816 - val_loss: 0.2383\n",
      "Epoch 45/50\n",
      " - 0s - loss: 0.2814 - val_loss: 0.2370\n",
      "Epoch 46/50\n",
      " - 0s - loss: 0.2813 - val_loss: 0.2362\n",
      "Epoch 47/50\n",
      " - 0s - loss: 0.2811 - val_loss: 0.2353\n",
      "Epoch 48/50\n",
      " - 0s - loss: 0.2813 - val_loss: 0.2348\n",
      "Epoch 49/50\n",
      " - 0s - loss: 0.2811 - val_loss: 0.2340\n",
      "Epoch 50/50\n",
      " - 0s - loss: 0.2810 - val_loss: 0.2330\n"
     ]
    }
   ],
   "source": [
    "# iterate training batches\n",
    "history = model.fit(trainX, trainY, epochs=50, batch_size=5, validation_data=(testX, testY), verbose=2, shuffle=False)"
   ]
  },
  {
   "cell_type": "code",
   "execution_count": 25,
   "metadata": {},
   "outputs": [
    {
     "data": {
      "image/png": "[encoded data removed]",
      "text/plain": [
       "<matplotlib.figure.Figure at 0x7f51cc0ff0f0>"
      ]
     },
     "metadata": {},
     "output_type": "display_data"
    }
   ],
   "source": [
    "# plot history\n",
    "pyplot.plot(history.history['loss'], label='train')\n",
    "pyplot.plot(history.history['val_loss'], label='test')\n",
    "pyplot.legend()\n",
    "pyplot.show()"
   ]
  }
 ],
 "metadata": {
  "kernelspec": {
   "display_name": "Python 3",
   "language": "python",
   "name": "python3"
  },
  "language_info": {
   "codemirror_mode": {
    "name": "ipython",
    "version": 3
   },
   "file_extension": ".py",
   "mimetype": "text/x-python",
   "name": "python",
   "nbconvert_exporter": "python",
   "pygments_lexer": "ipython3",
   "version": "3.5.2"
  }
 },
 "nbformat": 4,
 "nbformat_minor": 2
}
