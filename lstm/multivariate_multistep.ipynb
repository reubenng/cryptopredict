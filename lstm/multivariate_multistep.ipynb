{
 "cells": [
  {
   "cell_type": "code",
   "execution_count": 1,
   "metadata": {},
   "outputs": [
    {
     "name": "stderr",
     "output_type": "stream",
     "text": [
      "/usr/local/lib/python3.5/dist-packages/h5py/__init__.py:36: FutureWarning: Conversion of the second argument of issubdtype from `float` to `np.floating` is deprecated. In future, it will be treated as `np.float64 == np.dtype(float).type`.\n",
      "  from ._conv import register_converters as _register_converters\n",
      "Using TensorFlow backend.\n"
     ]
    }
   ],
   "source": [
    "#LSTM one-step price as input\n",
    "import numpy as np\n",
    "import pandas as pd\n",
    "from pandas import DataFrame\n",
    "from pandas import concat\n",
    "from sklearn.preprocessing import MinMaxScaler\n",
    "from keras.models import Sequential\n",
    "from keras.layers import Dense\n",
    "from keras.layers import LSTM\n",
    "from matplotlib import pyplot\n",
    "%matplotlib inline"
   ]
  },
  {
   "cell_type": "code",
   "execution_count": 2,
   "metadata": {},
   "outputs": [
    {
     "data": {
      "text/html": [
       "<div>\n",
       "<style scoped>\n",
       "    .dataframe tbody tr th:only-of-type {\n",
       "        vertical-align: middle;\n",
       "    }\n",
       "\n",
       "    .dataframe tbody tr th {\n",
       "        vertical-align: top;\n",
       "    }\n",
       "\n",
       "    .dataframe thead th {\n",
       "        text-align: right;\n",
       "    }\n",
       "</style>\n",
       "<table border=\"1\" class=\"dataframe\">\n",
       "  <thead>\n",
       "    <tr style=\"text-align: right;\">\n",
       "      <th></th>\n",
       "      <th>price</th>\n",
       "      <th>sentiment</th>\n",
       "    </tr>\n",
       "  </thead>\n",
       "  <tbody>\n",
       "    <tr>\n",
       "      <th>0</th>\n",
       "      <td>41.702200</td>\n",
       "      <td>0.720324</td>\n",
       "    </tr>\n",
       "    <tr>\n",
       "      <th>1</th>\n",
       "      <td>0.011437</td>\n",
       "      <td>0.302333</td>\n",
       "    </tr>\n",
       "    <tr>\n",
       "      <th>2</th>\n",
       "      <td>14.675589</td>\n",
       "      <td>0.092339</td>\n",
       "    </tr>\n",
       "    <tr>\n",
       "      <th>3</th>\n",
       "      <td>18.626021</td>\n",
       "      <td>0.345561</td>\n",
       "    </tr>\n",
       "    <tr>\n",
       "      <th>4</th>\n",
       "      <td>39.676747</td>\n",
       "      <td>0.538817</td>\n",
       "    </tr>\n",
       "  </tbody>\n",
       "</table>\n",
       "</div>"
      ],
      "text/plain": [
       "       price  sentiment\n",
       "0  41.702200   0.720324\n",
       "1   0.011437   0.302333\n",
       "2  14.675589   0.092339\n",
       "3  18.626021   0.345561\n",
       "4  39.676747   0.538817"
      ]
     },
     "execution_count": 2,
     "metadata": {},
     "output_type": "execute_result"
    }
   ],
   "source": [
    "# dummy data\n",
    "np.random.seed(1)\n",
    "df = pd.DataFrame(np.random.rand(100, 2), columns=['price', 'sentiment'])\n",
    "df['price'] = df['price']*100\n",
    "df.head()"
   ]
  },
  {
   "cell_type": "code",
   "execution_count": 3,
   "metadata": {},
   "outputs": [],
   "source": [
    "def series_to_supervised(data, n_in=1, n_out=1, dropnan=True):\n",
    "\t\"\"\"\n",
    "\tFrame a time series as a supervised learning dataset.\n",
    "\tArguments:\n",
    "\t\tdata: Sequence of observations as a list or NumPy array.\n",
    "\t\tn_in: Number of lag observations as input (X).\n",
    "\t\tn_out: Number of observations as output (y).\n",
    "\t\tdropnan: Boolean whether or not to drop rows with NaN values.\n",
    "\tReturns:\n",
    "\t\tPandas DataFrame of series framed for supervised learning.\n",
    "\t\"\"\"\n",
    "\tn_vars = 1 if type(data) is list else data.shape[1]\n",
    "\tdf = DataFrame(data)\n",
    "\tcols, names = list(), list()\n",
    "\t# input sequence (t-n, ... t-1)\n",
    "\tfor i in range(n_in, 0, -1):\n",
    "\t\tcols.append(df.shift(i))\n",
    "\t\tnames += [('var%d(t-%d)' % (j+1, i)) for j in range(n_vars)]\n",
    "\t# forecast sequence (t, t+1, ... t+n)\n",
    "\tfor i in range(0, n_out):\n",
    "\t\tcols.append(df.shift(-i))\n",
    "\t\tif i == 0:\n",
    "\t\t\tnames += [('var%d(t)' % (j+1)) for j in range(n_vars)]\n",
    "\t\telse:\n",
    "\t\t\tnames += [('var%d(t+%d)' % (j+1, i)) for j in range(n_vars)]\n",
    "\t# put it all together\n",
    "\tagg = concat(cols, axis=1)\n",
    "\tagg.columns = names\n",
    "\t# drop rows with NaN values\n",
    "\tif dropnan:\n",
    "\t\tagg.dropna(inplace=True)\n",
    "\treturn agg"
   ]
  },
  {
   "cell_type": "code",
   "execution_count": 4,
   "metadata": {},
   "outputs": [
    {
     "data": {
      "text/html": [
       "<div>\n",
       "<style scoped>\n",
       "    .dataframe tbody tr th:only-of-type {\n",
       "        vertical-align: middle;\n",
       "    }\n",
       "\n",
       "    .dataframe tbody tr th {\n",
       "        vertical-align: top;\n",
       "    }\n",
       "\n",
       "    .dataframe thead th {\n",
       "        text-align: right;\n",
       "    }\n",
       "</style>\n",
       "<table border=\"1\" class=\"dataframe\">\n",
       "  <thead>\n",
       "    <tr style=\"text-align: right;\">\n",
       "      <th></th>\n",
       "      <th>var1(t-3)</th>\n",
       "      <th>var2(t-3)</th>\n",
       "      <th>var1(t-2)</th>\n",
       "      <th>var2(t-2)</th>\n",
       "      <th>var1(t-1)</th>\n",
       "      <th>var2(t-1)</th>\n",
       "      <th>var1(t)</th>\n",
       "    </tr>\n",
       "  </thead>\n",
       "  <tbody>\n",
       "    <tr>\n",
       "      <th>3</th>\n",
       "      <td>0.421653</td>\n",
       "      <td>0.718717</td>\n",
       "      <td>0.000000</td>\n",
       "      <td>0.294259</td>\n",
       "      <td>0.148310</td>\n",
       "      <td>0.081017</td>\n",
       "      <td>0.188264</td>\n",
       "    </tr>\n",
       "    <tr>\n",
       "      <th>4</th>\n",
       "      <td>0.000000</td>\n",
       "      <td>0.294259</td>\n",
       "      <td>0.148310</td>\n",
       "      <td>0.081017</td>\n",
       "      <td>0.188264</td>\n",
       "      <td>0.338156</td>\n",
       "      <td>0.401168</td>\n",
       "    </tr>\n",
       "    <tr>\n",
       "      <th>5</th>\n",
       "      <td>0.148310</td>\n",
       "      <td>0.081017</td>\n",
       "      <td>0.188264</td>\n",
       "      <td>0.338156</td>\n",
       "      <td>0.401168</td>\n",
       "      <td>0.534401</td>\n",
       "      <td>0.423850</td>\n",
       "    </tr>\n",
       "    <tr>\n",
       "      <th>6</th>\n",
       "      <td>0.188264</td>\n",
       "      <td>0.338156</td>\n",
       "      <td>0.401168</td>\n",
       "      <td>0.534401</td>\n",
       "      <td>0.423850</td>\n",
       "      <td>0.683069</td>\n",
       "      <td>0.206664</td>\n",
       "    </tr>\n",
       "    <tr>\n",
       "      <th>7</th>\n",
       "      <td>0.401168</td>\n",
       "      <td>0.534401</td>\n",
       "      <td>0.423850</td>\n",
       "      <td>0.683069</td>\n",
       "      <td>0.206664</td>\n",
       "      <td>0.878951</td>\n",
       "      <td>0.027584</td>\n",
       "    </tr>\n",
       "  </tbody>\n",
       "</table>\n",
       "</div>"
      ],
      "text/plain": [
       "   var1(t-3)  var2(t-3)  var1(t-2)  var2(t-2)  var1(t-1)  var2(t-1)   var1(t)\n",
       "3   0.421653   0.718717   0.000000   0.294259   0.148310   0.081017  0.188264\n",
       "4   0.000000   0.294259   0.148310   0.081017   0.188264   0.338156  0.401168\n",
       "5   0.148310   0.081017   0.188264   0.338156   0.401168   0.534401  0.423850\n",
       "6   0.188264   0.338156   0.401168   0.534401   0.423850   0.683069  0.206664\n",
       "7   0.401168   0.534401   0.423850   0.683069   0.206664   0.878951  0.027584"
      ]
     },
     "execution_count": 4,
     "metadata": {},
     "output_type": "execute_result"
    }
   ],
   "source": [
    "values = df.values\n",
    "values = values.astype('float32') # convert to float\n",
    "scaler = MinMaxScaler(feature_range=(0, 1))\n",
    "scaled = scaler.fit_transform(values) # normalised\n",
    "reframed = series_to_supervised(scaled, 3, 1)\n",
    "reframed.drop(reframed.columns[[7]], axis=1, inplace=True) # drop sentiment columns\n",
    "reframed.head()"
   ]
  },
  {
   "cell_type": "code",
   "execution_count": 5,
   "metadata": {},
   "outputs": [
    {
     "data": {
      "text/plain": [
       "(10, 7)"
      ]
     },
     "execution_count": 5,
     "metadata": {},
     "output_type": "execute_result"
    }
   ],
   "source": [
    "# train and test set\n",
    "split = 0.9\n",
    "values = reframed.values\n",
    "train = values[:int(len(values)*split), :]\n",
    "test = values[int(len(values)*split):, :]\n",
    "test.shape"
   ]
  },
  {
   "cell_type": "code",
   "execution_count": 6,
   "metadata": {},
   "outputs": [],
   "source": [
    "# split into input output\n",
    "trainX, trainY = train[:, :-1], train[:, -1]\n",
    "testX, testY = test[:, :-1], test[:, -1]\n",
    "trainX = trainX.reshape(trainX.shape[0], 1, trainX.shape[1])\n",
    "testX = testX.reshape(testX.shape[0], 1, testX.shape[1])"
   ]
  },
  {
   "cell_type": "code",
   "execution_count": 7,
   "metadata": {},
   "outputs": [
    {
     "data": {
      "text/plain": [
       "(87, 1, 6)"
      ]
     },
     "execution_count": 7,
     "metadata": {},
     "output_type": "execute_result"
    }
   ],
   "source": [
    "trainX.shape"
   ]
  },
  {
   "cell_type": "code",
   "execution_count": 8,
   "metadata": {},
   "outputs": [],
   "source": [
    "# LSTM\n",
    "model = Sequential()\n",
    "model.add(LSTM(100, input_shape=(trainX.shape[1], trainX.shape[2]))) # LSTM layer, 100 units\n",
    "model.add(Dense(1)) # fully connected layer\n",
    "model.compile(loss='mae', optimizer='adam') # configure training process, mean absolute error"
   ]
  },
  {
   "cell_type": "code",
   "execution_count": 9,
   "metadata": {
    "scrolled": true
   },
   "outputs": [
    {
     "name": "stdout",
     "output_type": "stream",
     "text": [
      "Train on 87 samples, validate on 10 samples\n",
      "Epoch 1/50\n",
      " - 1s - loss: 0.3692 - val_loss: 0.3191\n",
      "Epoch 2/50\n",
      " - 0s - loss: 0.3042 - val_loss: 0.2766\n",
      "Epoch 3/50\n",
      " - 0s - loss: 0.2964 - val_loss: 0.2694\n",
      "Epoch 4/50\n",
      " - 0s - loss: 0.2971 - val_loss: 0.2737\n",
      "Epoch 5/50\n",
      " - 0s - loss: 0.2954 - val_loss: 0.2790\n",
      "Epoch 6/50\n",
      " - 0s - loss: 0.2932 - val_loss: 0.2831\n",
      "Epoch 7/50\n",
      " - 0s - loss: 0.2911 - val_loss: 0.2870\n",
      "Epoch 8/50\n",
      " - 0s - loss: 0.2891 - val_loss: 0.2908\n",
      "Epoch 9/50\n",
      " - 0s - loss: 0.2870 - val_loss: 0.2946\n",
      "Epoch 10/50\n",
      " - 0s - loss: 0.2843 - val_loss: 0.2950\n",
      "Epoch 11/50\n",
      " - 0s - loss: 0.2822 - val_loss: 0.2963\n",
      "Epoch 12/50\n",
      " - 0s - loss: 0.2807 - val_loss: 0.3016\n",
      "Epoch 13/50\n",
      " - 0s - loss: 0.2779 - val_loss: 0.2998\n",
      "Epoch 14/50\n",
      " - 0s - loss: 0.2767 - val_loss: 0.3039\n",
      "Epoch 15/50\n",
      " - 0s - loss: 0.2746 - val_loss: 0.3109\n",
      "Epoch 16/50\n",
      " - 0s - loss: 0.2719 - val_loss: 0.3106\n",
      "Epoch 17/50\n",
      " - 0s - loss: 0.2720 - val_loss: 0.3141\n",
      "Epoch 18/50\n",
      " - 0s - loss: 0.2708 - val_loss: 0.3175\n",
      "Epoch 19/50\n",
      " - 0s - loss: 0.2685 - val_loss: 0.3209\n",
      "Epoch 20/50\n",
      " - 0s - loss: 0.2681 - val_loss: 0.3245\n",
      "Epoch 21/50\n",
      " - 0s - loss: 0.2667 - val_loss: 0.3275\n",
      "Epoch 22/50\n",
      " - 0s - loss: 0.2672 - val_loss: 0.3308\n",
      "Epoch 23/50\n",
      " - 0s - loss: 0.2652 - val_loss: 0.3331\n",
      "Epoch 24/50\n",
      " - 0s - loss: 0.2646 - val_loss: 0.3346\n",
      "Epoch 25/50\n",
      " - 0s - loss: 0.2643 - val_loss: 0.3360\n",
      "Epoch 26/50\n",
      " - 0s - loss: 0.2632 - val_loss: 0.3376\n",
      "Epoch 27/50\n",
      " - 0s - loss: 0.2623 - val_loss: 0.3398\n",
      "Epoch 28/50\n",
      " - 0s - loss: 0.2616 - val_loss: 0.3420\n",
      "Epoch 29/50\n",
      " - 0s - loss: 0.2622 - val_loss: 0.3433\n",
      "Epoch 30/50\n",
      " - 0s - loss: 0.2622 - val_loss: 0.3439\n",
      "Epoch 31/50\n",
      " - 0s - loss: 0.2615 - val_loss: 0.3460\n",
      "Epoch 32/50\n",
      " - 0s - loss: 0.2622 - val_loss: 0.3469\n",
      "Epoch 33/50\n",
      " - 0s - loss: 0.2621 - val_loss: 0.3472\n",
      "Epoch 34/50\n",
      " - 0s - loss: 0.2617 - val_loss: 0.3474\n",
      "Epoch 35/50\n",
      " - 0s - loss: 0.2626 - val_loss: 0.3479\n",
      "Epoch 36/50\n",
      " - 0s - loss: 0.2607 - val_loss: 0.3487\n",
      "Epoch 37/50\n",
      " - 0s - loss: 0.2605 - val_loss: 0.3498\n",
      "Epoch 38/50\n",
      " - 0s - loss: 0.2599 - val_loss: 0.3509\n",
      "Epoch 39/50\n",
      " - 0s - loss: 0.2607 - val_loss: 0.3520\n",
      "Epoch 40/50\n",
      " - 0s - loss: 0.2609 - val_loss: 0.3525\n",
      "Epoch 41/50\n",
      " - 0s - loss: 0.2609 - val_loss: 0.3528\n",
      "Epoch 42/50\n",
      " - 0s - loss: 0.2625 - val_loss: 0.3532\n",
      "Epoch 43/50\n",
      " - 0s - loss: 0.2601 - val_loss: 0.3538\n",
      "Epoch 44/50\n",
      " - 0s - loss: 0.2618 - val_loss: 0.3533\n",
      "Epoch 45/50\n",
      " - 0s - loss: 0.2595 - val_loss: 0.3540\n",
      "Epoch 46/50\n",
      " - 0s - loss: 0.2597 - val_loss: 0.3550\n",
      "Epoch 47/50\n",
      " - 0s - loss: 0.2592 - val_loss: 0.3562\n",
      "Epoch 48/50\n",
      " - 0s - loss: 0.2593 - val_loss: 0.3573\n",
      "Epoch 49/50\n",
      " - 0s - loss: 0.2592 - val_loss: 0.3581\n",
      "Epoch 50/50\n",
      " - 0s - loss: 0.2618 - val_loss: 0.3575\n"
     ]
    }
   ],
   "source": [
    "# iterate training batches\n",
    "history = model.fit(trainX, trainY, epochs=50, batch_size=5, validation_data=(testX, testY), verbose=2, shuffle=False)"
   ]
  },
  {
   "cell_type": "code",
   "execution_count": 10,
   "metadata": {},
   "outputs": [
    {
     "data": {
      "image/png": "[encoded data removed]",
      "text/plain": [
       "<matplotlib.figure.Figure at 0x7f073830a1d0>"
      ]
     },
     "metadata": {},
     "output_type": "display_data"
    }
   ],
   "source": [
    "# plot history\n",
    "pyplot.plot(history.history['loss'], label='train')\n",
    "pyplot.plot(history.history['val_loss'], label='test')\n",
    "pyplot.legend()\n",
    "pyplot.show()"
   ]
  }
 ],
 "metadata": {
  "kernelspec": {
   "display_name": "Python 3",
   "language": "python",
   "name": "python3"
  },
  "language_info": {
   "codemirror_mode": {
    "name": "ipython",
    "version": 3
   },
   "file_extension": ".py",
   "mimetype": "text/x-python",
   "name": "python",
   "nbconvert_exporter": "python",
   "pygments_lexer": "ipython3",
   "version": "3.5.2"
  }
 },
 "nbformat": 4,
 "nbformat_minor": 2
}
